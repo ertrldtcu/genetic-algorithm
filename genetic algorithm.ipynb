{
 "cells": [
  {
   "cell_type": "markdown",
   "id": "fe96c1dc",
   "metadata": {},
   "source": [
    "# Genetik Algoritma Kullanarak Bir Bit Dizisinin Tersinin Bulunması\n",
    "---\n",
    "Bu proje ile Genetik Algoritma kullanarak bir dizi içerisinde verilen bitlerin (0 ve 1'lerin) tersi bulunmaya çalışılmıştır."
   ]
  },
  {
   "cell_type": "markdown",
   "id": "aa8b96f6",
   "metadata": {},
   "source": [
    "Öncelikle daha önceden hazırlanan, içerisinde `GeneticAlgorithm` sınıfını barındıran kütüphane içe aktarılır."
   ]
  },
  {
   "cell_type": "code",
   "execution_count": 1,
   "id": "a2270077",
   "metadata": {},
   "outputs": [],
   "source": [
    "from GeneticAlgorithm import GeneticAlgorithm as GA, random"
   ]
  },
  {
   "cell_type": "markdown",
   "id": "682621c5",
   "metadata": {},
   "source": [
    "Kütüphane içe aktarıldıktan sonra tersi bulunmaya çalışılacak bit dizisini tanımlanır."
   ]
  },
  {
   "cell_type": "code",
   "execution_count": 2,
   "id": "6c8b5ea9",
   "metadata": {},
   "outputs": [],
   "source": [
    "# source_gene = [1, 0, 1, 1, 0, 1, 0, 0, 1, 1]\n",
    "random_len = 20\n",
    "source_gene = [random.randint(0, 1) for i in range(random_len)]"
   ]
  },
  {
   "cell_type": "markdown",
   "id": "71df06dc",
   "metadata": {},
   "source": [
    "`source_gene` dizisine rastgele 20 bit tanımlanmıştır."
   ]
  },
  {
   "cell_type": "markdown",
   "id": "e0f2d717",
   "metadata": {},
   "source": [
    "Ardından `GeneticAlgorithm` sınıfından nesne oluştururken kullanılacak değerler tanımlanır."
   ]
  },
  {
   "cell_type": "markdown",
   "id": "94007144",
   "metadata": {},
   "source": [
    "`population_size` değeri, algoritmanın başlangıçta ve her yeni nesilde kullanacağı popülasyonun birey sayısını temsil etmektedir. Kullanacağımız kaynak gen 20 bit'ten oluştuğu için bu değerin 10 olması yeterlidir."
   ]
  },
  {
   "cell_type": "code",
   "execution_count": 3,
   "id": "ecb0cabb",
   "metadata": {},
   "outputs": [],
   "source": [
    "population_size = 10"
   ]
  },
  {
   "cell_type": "markdown",
   "id": "59260075",
   "metadata": {},
   "source": [
    "`crossover_rate` değeri, yeni bir çocuk oluşturulurken ebeveyn genlerine ne sıklıkla çaprazlama uygulanacağını belirtmektedir. Yeni nesil oluşturulurken çeşitliliği arttıracağı için bu oranın yüksek olması gerekmektedir."
   ]
  },
  {
   "cell_type": "code",
   "execution_count": 4,
   "id": "cfc85db9",
   "metadata": {},
   "outputs": [],
   "source": [
    "crossover_rate = 0.8"
   ]
  },
  {
   "cell_type": "markdown",
   "id": "341b03da",
   "metadata": {},
   "source": [
    "`mutation_rate` değeri, oluşturulan yeni çocuk üzerinde ne sıklıkla mutasyon gerçekleşeceğini belirtmektedir. Nesil ilerledikçe başarı oranının sürekli düşmesi durumunda mutasyon bu durumu tersine çevirebilecektir. Ancak bu değerin çok düşük olması gerekmektedir. Aksi takdirde nesiller arasındaki benzerlik azalacağı için başarı oranın da sürekli bir artış olmayacaktır."
   ]
  },
  {
   "cell_type": "code",
   "execution_count": 5,
   "id": "3f7cabc9",
   "metadata": {},
   "outputs": [],
   "source": [
    "mutation_rate = 0.01"
   ]
  },
  {
   "cell_type": "markdown",
   "id": "b071e068",
   "metadata": {},
   "source": [
    "`iteration_count` değeri, evrimin kaç nesil ilerleyeceğini belirtmektedir. Eğer üzerinde çalışılan projede hedefe tam ulaşılıp ulaşılamayacağı bilinmiyorsa bir nesil sayısı belirlemek doğru olacaktır. Bu değer `-1` tanımlanırsa algoritma hedefe ulaşana kadar yeni nesiller üretecektir."
   ]
  },
  {
   "cell_type": "code",
   "execution_count": 6,
   "id": "f96b5d70",
   "metadata": {},
   "outputs": [],
   "source": [
    "iteration_count = -1"
   ]
  },
  {
   "cell_type": "markdown",
   "id": "d63dae94",
   "metadata": {},
   "source": [
    "`target_fitness` değeri, beklenen başarı oranını belirtmektedir. Eğer üzerinde çalışılan projede hedefe tam ulaşılıp ulaşılamayacağı bilinmiyorsa bir başarı oranı belirlemek doğru olacaktır. Bu değer `1` tanımlanırsa algoritma hedefe ulaşana kadar yeni nesiller üretecektir."
   ]
  },
  {
   "cell_type": "code",
   "execution_count": 7,
   "id": "3e52dec7",
   "metadata": {},
   "outputs": [],
   "source": [
    "target_fitness = 1"
   ]
  },
  {
   "cell_type": "markdown",
   "id": "e89276dd",
   "metadata": {},
   "source": [
    "Bu değerler ile `GeneticAlgorithm` sınıfından bir nesne oluşturulur."
   ]
  },
  {
   "cell_type": "code",
   "execution_count": 8,
   "id": "f4843285",
   "metadata": {},
   "outputs": [],
   "source": [
    "ga = GA(population_size, crossover_rate, mutation_rate,\n",
    "        source_gene, iteration_count, target_fitness)"
   ]
  },
  {
   "cell_type": "markdown",
   "id": "176b5abd",
   "metadata": {},
   "source": [
    "Oluşturulan nesnenin `run` metodu ile hedef gene ulaşabilmek için evrim başlatılır."
   ]
  },
  {
   "cell_type": "code",
   "execution_count": 9,
   "id": "3f5fbe2f",
   "metadata": {},
   "outputs": [],
   "source": [
    "result = ga.run()"
   ]
  },
  {
   "cell_type": "markdown",
   "id": "a3270ecc",
   "metadata": {},
   "source": [
    "Elde edilen geni, nesil sayısını ve başarı oranını yazdıralım."
   ]
  },
  {
   "cell_type": "code",
   "execution_count": 10,
   "id": "66aaa001",
   "metadata": {},
   "outputs": [
    {
     "name": "stdout",
     "output_type": "stream",
     "text": [
      "Source Gene:      [0, 1, 0, 1, 1, 0, 0, 1, 1, 0, 0, 1, 1, 1, 0, 0, 1, 1, 1, 0]\n",
      "Best Gene:        [1, 0, 1, 0, 0, 1, 1, 0, 0, 1, 1, 0, 0, 0, 1, 1, 0, 0, 0, 1]\n",
      "Generation count: 20\n",
      "Fitness Value:    1.0\n"
     ]
    }
   ],
   "source": [
    "print(\"Source Gene:     \", source_gene)\n",
    "print(\"Best Gene:       \", result[0])\n",
    "print(\"Generation count:\", result[1])\n",
    "print(\"Fitness Value:   \", result[2])"
   ]
  },
  {
   "cell_type": "markdown",
   "id": "139762ef",
   "metadata": {},
   "source": [
    "Algoritmanın ortalama ve maksimum başarı oranları grafik üzerinde görüntülenir."
   ]
  },
  {
   "cell_type": "code",
   "execution_count": 11,
   "id": "f613b397",
   "metadata": {},
   "outputs": [
    {
     "data": {
      "image/png": "[encoded data removed]",
      "text/plain": [
       "<Figure size 640x480 with 1 Axes>"
      ]
     },
     "metadata": {},
     "output_type": "display_data"
    }
   ],
   "source": [
    "from matplotlib import pyplot as plt\n",
    "\n",
    "plt.plot(ga.avg_fitness_per_generation, color='blue',\n",
    "         label='Ortalama başarı oranı', linewidth=0.5)\n",
    "\n",
    "plt.plot(ga.max_fitness_per_generation, color='red',\n",
    "         label='Maksimum başarı oranı', linewidth=0.5)\n",
    "\n",
    "plt.xlabel('Nesil Sayısı')\n",
    "plt.ylabel('Başarı Oranı')\n",
    "\n",
    "plt.legend()\n",
    "\n",
    "plt.show()"
   ]
  },
  {
   "cell_type": "markdown",
   "id": "182a34fe",
   "metadata": {},
   "source": [
    "# SONUÇ\n",
    "---\n",
    "Tüm kodlar birleştirildiğinde aşağıdaki gibi olacaktır."
   ]
  },
  {
   "cell_type": "code",
   "execution_count": 16,
   "id": "6eb8c336",
   "metadata": {},
   "outputs": [
    {
     "name": "stdout",
     "output_type": "stream",
     "text": [
      "Source Gene:   [1, 0, 1, 1, 0, 1, 1, 1, 0, 0, 0, 1, 1, 1, 1, 1, 0, 0, 1, 0, 0, 1, 1, 1, 0, 1, 1, 1, 1, 0, 1, 1, 1, 0, 1, 0, 0, 1, 1, 1, 0, 0, 1, 0, 1, 0, 1, 0, 1, 0, 1, 1, 1, 1, 1, 1, 1, 1, 0, 0, 1, 1, 0, 1, 0, 0, 1, 1, 1, 0, 0, 1, 0, 1, 1, 0, 1, 1, 1, 0, 0, 1, 0, 1, 0, 0, 0, 1, 0, 0, 0, 1, 0, 0, 1, 0, 1, 1, 1, 1, 0, 0, 1, 0, 0, 0, 1, 0, 1, 0, 0, 1, 0, 1, 1, 0, 1, 0, 1, 0, 1, 1, 0, 1, 0, 0, 0, 0, 0, 0, 1, 0, 0, 0, 1, 0, 1, 0, 0, 0, 0, 0, 0, 0, 0, 0, 1, 0, 0, 0, 0, 1, 0, 0, 0, 1, 0, 1, 1, 0, 0, 0, 1, 1, 1, 1, 0, 0, 0, 1, 0, 0, 1, 1, 1, 1, 1, 1, 1, 1, 1, 0, 0, 0, 0, 0, 0, 1, 1, 0, 1, 0, 0, 0, 1, 0, 0, 0, 1, 0]\n",
      "Best Gene:     [0, 1, 0, 0, 1, 1, 0, 0, 0, 1, 1, 0, 1, 0, 0, 0, 1, 0, 0, 1, 0, 0, 0, 0, 1, 0, 0, 0, 0, 1, 0, 0, 0, 1, 0, 1, 1, 0, 0, 1, 1, 1, 0, 1, 0, 1, 0, 1, 0, 1, 0, 0, 0, 0, 0, 0, 0, 0, 1, 1, 0, 0, 1, 0, 1, 1, 0, 0, 0, 1, 1, 0, 1, 1, 0, 0, 1, 0, 0, 1, 1, 0, 1, 0, 1, 1, 1, 0, 1, 1, 1, 0, 1, 1, 0, 1, 0, 0, 0, 0, 1, 1, 0, 1, 1, 1, 0, 1, 0, 1, 1, 1, 1, 0, 0, 1, 1, 1, 0, 1, 0, 0, 1, 0, 1, 1, 1, 1, 1, 1, 0, 0, 1, 0, 0, 1, 0, 1, 0, 1, 1, 1, 1, 1, 1, 1, 0, 0, 1, 1, 1, 0, 1, 1, 1, 0, 1, 0, 0, 1, 1, 1, 0, 0, 0, 0, 1, 1, 1, 0, 0, 1, 0, 0, 0, 0, 1, 0, 0, 1, 1, 1, 1, 1, 1, 1, 1, 0, 1, 1, 0, 1, 1, 1, 0, 1, 1, 1, 0, 1]\n",
      "Step count:    102\n",
      "Fitness Value: 0.9\n"
     ]
    },
    {
     "data": {
      "image/png": "[encoded data removed]",
      "text/plain": [
       "<Figure size 640x480 with 1 Axes>"
      ]
     },
     "metadata": {},
     "output_type": "display_data"
    }
   ],
   "source": [
    "from GeneticAlgorithm import GeneticAlgorithm as GA, random\n",
    "from matplotlib import pyplot as plt\n",
    "\n",
    "# source_gene = [1, 0, 1, 1, 0, 1, 0, 0, 1, 1]\n",
    "random_len = 200\n",
    "source_gene = [random.randint(0, 1) for i in range(random_len)]\n",
    "\n",
    "population_size = 10\n",
    "crossover_rate = 0.8\n",
    "mutation_rate = 0.01\n",
    "iteration_count = -1\n",
    "target_fitness = 0.9\n",
    "\n",
    "ga = GA(population_size, crossover_rate, mutation_rate,\n",
    "        source_gene, iteration_count, target_fitness)\n",
    "result = ga.run()\n",
    "\n",
    "print(\"Source Gene:  \", source_gene)\n",
    "print(\"Best Gene:    \", result[0])\n",
    "print(\"Step count:   \", result[1])\n",
    "print(\"Fitness Value:\", result[2])\n",
    "\n",
    "plt.plot(ga.avg_fitness_per_generation, color='blue',\n",
    "         label='Ortalama başarı oranı', linewidth=0.5)\n",
    "\n",
    "plt.plot(ga.max_fitness_per_generation, color='red',\n",
    "         label='Maksimum başarı oranı', linewidth=0.5)\n",
    "\n",
    "plt.xlabel('Nesil Sayısı')\n",
    "plt.ylabel('Başarı Oranı')\n",
    "\n",
    "plt.legend()\n",
    "\n",
    "plt.show()"
   ]
  }
 ],
 "metadata": {
  "kernelspec": {
   "display_name": "Python 3 (ipykernel)",
   "language": "python",
   "name": "python3"
  },
  "language_info": {
   "codemirror_mode": {
    "name": "ipython",
    "version": 3
   },
   "file_extension": ".py",
   "mimetype": "text/x-python",
   "name": "python",
   "nbconvert_exporter": "python",
   "pygments_lexer": "ipython3",
   "version": "3.7.16"
  }
 },
 "nbformat": 4,
 "nbformat_minor": 5
}
